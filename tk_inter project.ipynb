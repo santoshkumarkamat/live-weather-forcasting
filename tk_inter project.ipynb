{
 "cells": [
  {
   "cell_type": "code",
   "execution_count": 1,
   "id": "466e2be7",
   "metadata": {},
   "outputs": [],
   "source": [
    "from tkinter import * \n",
    "window = Tk()\n",
    "window.title(\"Welocome to Whether API\")\n",
    "l1=Label(window,text=\"KNOW ABOUT WHEATHER\",bg=\"blue\",fg=\"red\",width=50)\n",
    "#li.pack()\n",
    "#l1.grid(row=0,column=6)\n",
    "l1.place(x=50,y=150)\n",
    "window.mainloop()\n"
   ]
  },
  {
   "cell_type": "code",
   "execution_count": null,
   "id": "5c57f3fd",
   "metadata": {},
   "outputs": [],
   "source": []
  },
  {
   "cell_type": "code",
   "execution_count": null,
   "id": "d0f1cd87",
   "metadata": {},
   "outputs": [],
   "source": []
  }
 ],
 "metadata": {
  "kernelspec": {
   "display_name": "Python 3 (ipykernel)",
   "language": "python",
   "name": "python3"
  },
  "language_info": {
   "codemirror_mode": {
    "name": "ipython",
    "version": 3
   },
   "file_extension": ".py",
   "mimetype": "text/x-python",
   "name": "python",
   "nbconvert_exporter": "python",
   "pygments_lexer": "ipython3",
   "version": "3.10.8"
  }
 },
 "nbformat": 4,
 "nbformat_minor": 5
}
